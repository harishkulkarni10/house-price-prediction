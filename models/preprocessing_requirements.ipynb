{
 "cells": [
  {
   "cell_type": "markdown",
   "id": "5ea7ad48",
   "metadata": {},
   "source": [
    "| Preprocessing Step             | Linear Regression | Ridge / Lasso    | GBM (sklearn) | XGBoost | LightGBM      |\n",
    "| ------------------------------ | ----------------- | ---------------- | ------------- | ------- | ------------- |\n",
    "| **Categorical Encoding**       |  Yes             |  Yes            |  Yes         |  Yes   |  Optional\\* |\n",
    "| **Outlier Handling**           |  Recommended     |  Recommended    |  No          |  No    |  No          |\n",
    "| **Standardization**            |  Yes (optional)  |  Yes (needed)   |  No          |  No    |  No          |\n",
    "| **Multicollinearity Handling** |  Optional       |  Yes (built-in) |  No          |  No    |  No          |\n"
   ]
  }
 ],
 "metadata": {
  "language_info": {
   "name": "python"
  }
 },
 "nbformat": 4,
 "nbformat_minor": 5
}

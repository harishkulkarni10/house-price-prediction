{
 "cells": [
  {
   "cell_type": "code",
   "execution_count": 50,
   "id": "ac4f44c0",
   "metadata": {},
   "outputs": [],
   "source": [
    "import pandas as pd\n",
    "import numpy as np\n",
    "import seaborn as sns\n",
    "import matplotlib.pyplot as plt"
   ]
  },
  {
   "cell_type": "code",
   "execution_count": 51,
   "id": "7d284e11",
   "metadata": {},
   "outputs": [
    {
     "name": "stderr",
     "output_type": "stream",
     "text": [
      "<>:1: SyntaxWarning: invalid escape sequence '\\H'\n",
      "<>:1: SyntaxWarning: invalid escape sequence '\\H'\n",
      "C:\\Users\\bhmrk\\AppData\\Local\\Temp\\ipykernel_35364\\3416419716.py:1: SyntaxWarning: invalid escape sequence '\\H'\n",
      "  df = pd.read_csv('C:\\Harish\\DATA SCIENCE COURSE\\Course\\Major Projects\\House Price Prediction\\data\\processed\\processed_data.csv')\n"
     ]
    }
   ],
   "source": [
    "df = pd.read_csv('C:\\Harish\\DATA SCIENCE COURSE\\Course\\Major Projects\\House Price Prediction\\data\\processed\\processed_data.csv')"
   ]
  },
  {
   "cell_type": "code",
   "execution_count": null,
   "id": "592f503a",
   "metadata": {},
   "outputs": [],
   "source": []
  },
  {
   "cell_type": "markdown",
   "id": "980f045e",
   "metadata": {},
   "source": [
    "#### Feature Engineering groups for House Price prediction\n",
    "- Size and Area features\n",
    "- Age and Time features\n",
    "- Quality and Condition features\n",
    "- Other Miscellaneous features"
   ]
  },
  {
   "cell_type": "markdown",
   "id": "ef66476e",
   "metadata": {},
   "source": [
    "#### **Size & Area Features**\n",
    "\n",
    "##### Capture total usable space and living quality through area-based features.\n",
    "\n",
    "| Feature Name      | Description                                                       |\n",
    "|-------------------|-------------------------------------------------------------------|\n",
    "| `GrLivArea`        | Above-ground living area                                         |  \n",
    "| `TotalBsmtSF`      | Total basement area                                              |\n",
    "| `1stFlrSF`         | First floor square footage                                       |\n",
    "| `2ndFlrSF`         | Second floor square footage                                      |\n",
    "| `GarageArea`       | Area of the garage                                               |\n",
    "| `LotArea`          | Total area of the plot/land                                      |\n",
    "| `MasVnrArea`       | Masonry veneer area                                              |\n",
    "| `TotalPorchSF`     | Total porch area (sum of open, enclosed, 3-season, screen)       |\n",
    "| `TotalHouseSF`     | 1st + 2nd floor + basement                                       |  \n",
    "| `TotalSqFeet`      | GrLivArea + TotalBsmtSF                                          |  \n",
    "| `BsmtFinishedSF`   | BsmtFin SF 1 + BsmtFin SF 2 (finished basement only)             |  \n",
    "| `TotalBath`        | Full + half baths above and below ground (half bath = 0.5)       |  "
   ]
  },
  {
   "cell_type": "code",
   "execution_count": 52,
   "id": "73022fad",
   "metadata": {},
   "outputs": [
    {
     "name": "stdout",
     "output_type": "stream",
     "text": [
      "['Order', 'PID', 'MS SubClass', 'MS Zoning', 'Lot Frontage', 'Lot Area', 'Street', 'Alley', 'Lot Shape', 'Land Contour', 'Utilities', 'Lot Config', 'Land Slope', 'Neighborhood', 'Condition 1', 'Condition 2', 'Bldg Type', 'House Style', 'Overall Qual', 'Overall Cond', 'Year Built', 'Year Remod/Add', 'Roof Style', 'Roof Matl', 'Exterior 1st', 'Exterior 2nd', 'Mas Vnr Type', 'Mas Vnr Area', 'Exter Qual', 'Exter Cond', 'Foundation', 'Bsmt Qual', 'Bsmt Cond', 'Bsmt Exposure', 'BsmtFin Type 1', 'BsmtFin SF 1', 'BsmtFin Type 2', 'BsmtFin SF 2', 'Bsmt Unf SF', 'Total Bsmt SF', 'Heating', 'Heating QC', 'Central Air', 'Electrical', '1st Flr SF', '2nd Flr SF', 'Low Qual Fin SF', 'Gr Liv Area', 'Bsmt Full Bath', 'Bsmt Half Bath', 'Full Bath', 'Half Bath', 'Bedroom AbvGr', 'Kitchen AbvGr', 'Kitchen Qual', 'TotRms AbvGrd', 'Functional', 'Fireplaces', 'Fireplace Qu', 'Garage Type', 'Garage Yr Blt', 'Garage Finish', 'Garage Cars', 'Garage Area', 'Garage Qual', 'Garage Cond', 'Paved Drive', 'Wood Deck SF', 'Open Porch SF', 'Enclosed Porch', '3Ssn Porch', 'Screen Porch', 'Pool Area', 'Pool QC', 'Fence', 'Misc Feature', 'Misc Val', 'Mo Sold', 'Yr Sold', 'Sale Type', 'Sale Condition', 'SalePrice']\n"
     ]
    }
   ],
   "source": [
    "print(df.columns.tolist())"
   ]
  },
  {
   "cell_type": "markdown",
   "id": "332f86b0",
   "metadata": {},
   "source": [
    "| Feature Name     | In Dataset? | \n",
    "| ---------------- | ----------- | \n",
    "| `GrLivArea`      |  Yes      |                                                         |\n",
    "| `TotalBsmtSF`    |  Yes       |                                                          |\n",
    "| `1stFlrSF`       |  Yes       |   |\n",
    "| `2ndFlrSF`       |  Yes       |                              |\n",
    "| `GarageArea`     |  Yes       |                                                          |\n",
    "| `LotArea`        |  Yes       |                                                          |\n",
    "| `MasVnrArea`     |  Yes       |                            |\n",
    "| `OpenPorchSF`    |  Yes       |                            |\n",
    "| `EnclosedPorch`  |  Yes       |                            |\n",
    "| `3SsnPorch`      |  Yes       |                            |\n",
    "| `ScreenPorch`    |  Yes       |                            |\n",
    "| `BsmtFin SF 1`   |  Yes       |                            |\n",
    "| `BsmtFin SF 2`   |  Yes       |                            |\n",
    "| `Bsmt Full Bath` |  Yes       |                            |\n",
    "| `Bsmt Half Bath` |  Yes       |                            |\n",
    "| `Full Bath`      |  Yes       |                            |\n",
    "| `Half Bath`      |  Yes       |                                                          |\n"
   ]
  },
  {
   "cell_type": "markdown",
   "id": "638afd1c",
   "metadata": {},
   "source": [
    "##### Features to be created\n",
    "\n",
    "| Feature Name     | How to Create                                                         |\n",
    "| ---------------- | --------------------------------------------------------------------- |\n",
    "| `TotalPorchSF`   | `Open Porch SF + Enclosed Porch + 3Ssn Porch + Screen Porch`          |\n",
    "| `TotalHouseSF`   | `1st Flr SF + 2nd Flr SF + Total Bsmt SF`                             |\n",
    "| `TotalSqFeet`    | `GrLivArea + TotalBsmtSF`                                             |\n",
    "| `BsmtFinishedSF` | `BsmtFin SF 1 + BsmtFin SF 2`                                         |\n",
    "| `TotalBath`      | `Full Bath + Half Bath * 0.5 + Bsmt Full Bath + Bsmt Half Bath * 0.5` |\n"
   ]
  },
  {
   "cell_type": "code",
   "execution_count": 53,
   "id": "79521e49",
   "metadata": {},
   "outputs": [],
   "source": [
    "def create_size_features(df):\n",
    "\n",
    "    # Total porch area\n",
    "    df[\"TotalPorchSF\"] = (\n",
    "        df[\"Open Porch SF\"] +\n",
    "        df[\"Enclosed Porch\"] +\n",
    "        df[\"3Ssn Porch\"] +\n",
    "        df[\"Screen Porch\"]\n",
    "    )\n",
    "\n",
    "    # Total house square footage (including basement)\n",
    "    df[\"TotalHouseSF\"] = (\n",
    "        df[\"1st Flr SF\"] +\n",
    "        df[\"2nd Flr SF\"] +\n",
    "        df[\"Total Bsmt SF\"]\n",
    "    )\n",
    "\n",
    "    # Total square feet above and below ground\n",
    "    df[\"TotalSqFeet\"] = df[\"Gr Liv Area\"] + df[\"Total Bsmt SF\"]\n",
    "\n",
    "    # Finished basement area\n",
    "    df[\"BsmtFinishedSF\"] = df[\"BsmtFin SF 1\"] + df[\"BsmtFin SF 2\"]\n",
    "\n",
    "    # Total number of bathrooms (full + half + basement)\n",
    "    df[\"TotalBath\"] = (\n",
    "        df[\"Full Bath\"] +\n",
    "        df[\"Half Bath\"] * 0.5 +\n",
    "        df[\"Bsmt Full Bath\"] +\n",
    "        df[\"Bsmt Half Bath\"] * 0.5\n",
    "    )\n",
    "\n",
    "    return df\n"
   ]
  },
  {
   "cell_type": "code",
   "execution_count": 54,
   "id": "887a6ac4",
   "metadata": {},
   "outputs": [],
   "source": [
    "df = create_size_features(df)"
   ]
  },
  {
   "cell_type": "code",
   "execution_count": 55,
   "id": "04c19011",
   "metadata": {},
   "outputs": [
    {
     "data": {
      "text/html": [
       "<div>\n",
       "<style scoped>\n",
       "    .dataframe tbody tr th:only-of-type {\n",
       "        vertical-align: middle;\n",
       "    }\n",
       "\n",
       "    .dataframe tbody tr th {\n",
       "        vertical-align: top;\n",
       "    }\n",
       "\n",
       "    .dataframe thead th {\n",
       "        text-align: right;\n",
       "    }\n",
       "</style>\n",
       "<table border=\"1\" class=\"dataframe\">\n",
       "  <thead>\n",
       "    <tr style=\"text-align: right;\">\n",
       "      <th></th>\n",
       "      <th>TotalPorchSF</th>\n",
       "      <th>TotalHouseSF</th>\n",
       "      <th>TotalSqFeet</th>\n",
       "      <th>BsmtFinishedSF</th>\n",
       "      <th>TotalBath</th>\n",
       "    </tr>\n",
       "  </thead>\n",
       "  <tbody>\n",
       "    <tr>\n",
       "      <th>0</th>\n",
       "      <td>-0.532918</td>\n",
       "      <td>0.548251</td>\n",
       "      <td>0.373698</td>\n",
       "      <td>0.137125</td>\n",
       "      <td>-0.443355</td>\n",
       "    </tr>\n",
       "    <tr>\n",
       "      <th>1</th>\n",
       "      <td>0.688065</td>\n",
       "      <td>-1.840844</td>\n",
       "      <td>-1.579442</td>\n",
       "      <td>0.613091</td>\n",
       "      <td>-2.349095</td>\n",
       "    </tr>\n",
       "  </tbody>\n",
       "</table>\n",
       "</div>"
      ],
      "text/plain": [
       "   TotalPorchSF  TotalHouseSF  TotalSqFeet  BsmtFinishedSF  TotalBath\n",
       "0     -0.532918      0.548251     0.373698        0.137125  -0.443355\n",
       "1      0.688065     -1.840844    -1.579442        0.613091  -2.349095"
      ]
     },
     "execution_count": 55,
     "metadata": {},
     "output_type": "execute_result"
    }
   ],
   "source": [
    "new__size_cols = ['TotalPorchSF', 'TotalHouseSF', 'TotalSqFeet', 'BsmtFinishedSF', 'TotalBath']\n",
    "df[new__size_cols].head(2)"
   ]
  },
  {
   "cell_type": "code",
   "execution_count": null,
   "id": "7ee8af17",
   "metadata": {},
   "outputs": [],
   "source": []
  },
  {
   "cell_type": "markdown",
   "id": "9fddf279",
   "metadata": {},
   "source": [
    "#### Age Features\n",
    "\n",
    "##### Capture the age and renovation history of the house to reflect depreciation or modernization.\n",
    "\n",
    "| Feature Name       | Description                                                              |\n",
    "|--------------------|--------------------------------------------------------------------------|\n",
    "| `YearBuilt`         | Year when the house was originally constructed                          |\n",
    "| `YearRemodAdd`      | Year of last remodel (can be same as YearBuilt if never remodeled)      |\n",
    "| `GarageYrBlt`       | Year when the garage was built                                           |\n",
    "| `YrSold`            | Year when the house was sold                                             |\n",
    "| `HouseAge`          | Age of house at the time of sale (YrSold - YearBuilt)                   |\n",
    "| `RemodAge`          | Years since last remodel at time of sale (YrSold - YearRemodAdd)        |\n",
    "| `GarageAge`         | Age of garage at the time of sale (YrSold - GarageYrBlt)                |\n"
   ]
  },
  {
   "cell_type": "code",
   "execution_count": 56,
   "id": "d34daa75",
   "metadata": {},
   "outputs": [
    {
     "data": {
      "text/html": [
       "<div>\n",
       "<style scoped>\n",
       "    .dataframe tbody tr th:only-of-type {\n",
       "        vertical-align: middle;\n",
       "    }\n",
       "\n",
       "    .dataframe tbody tr th {\n",
       "        vertical-align: top;\n",
       "    }\n",
       "\n",
       "    .dataframe thead th {\n",
       "        text-align: right;\n",
       "    }\n",
       "</style>\n",
       "<table border=\"1\" class=\"dataframe\">\n",
       "  <thead>\n",
       "    <tr style=\"text-align: right;\">\n",
       "      <th></th>\n",
       "      <th>HouseAge</th>\n",
       "      <th>RemodAge</th>\n",
       "      <th>GarageAge</th>\n",
       "    </tr>\n",
       "  </thead>\n",
       "  <tbody>\n",
       "    <tr>\n",
       "      <th>0</th>\n",
       "      <td>2.054036</td>\n",
       "      <td>2.841987</td>\n",
       "      <td>2.388912</td>\n",
       "    </tr>\n",
       "    <tr>\n",
       "      <th>1</th>\n",
       "      <td>2.020967</td>\n",
       "      <td>2.794041</td>\n",
       "      <td>2.349733</td>\n",
       "    </tr>\n",
       "  </tbody>\n",
       "</table>\n",
       "</div>"
      ],
      "text/plain": [
       "   HouseAge  RemodAge  GarageAge\n",
       "0  2.054036  2.841987   2.388912\n",
       "1  2.020967  2.794041   2.349733"
      ]
     },
     "execution_count": 56,
     "metadata": {},
     "output_type": "execute_result"
    }
   ],
   "source": [
    "def create_age_features(df):\n",
    "    df['HouseAge'] = df['Yr Sold'] - df['Year Built']\n",
    "    df['RemodAge'] = df['Yr Sold'] - df['Year Remod/Add']\n",
    "    df['GarageAge'] = df['Yr Sold'] - df['Garage Yr Blt']\n",
    "    return df\n",
    "\n",
    "df = create_age_features(df)\n",
    "new_age_cols = ['HouseAge', 'RemodAge', 'GarageAge']\n",
    "df[new_age_cols].head(2)"
   ]
  },
  {
   "cell_type": "code",
   "execution_count": null,
   "id": "f6de8107",
   "metadata": {},
   "outputs": [],
   "source": []
  },
  {
   "cell_type": "markdown",
   "id": "5a7d18b7",
   "metadata": {},
   "source": [
    "#### Quality & Condition Features\n",
    "\n",
    "##### Represent the construction quality and overall physical condition of the property.\n",
    "\n",
    "| Feature Name        | Description                                                         |\n",
    "|---------------------|---------------------------------------------------------------------|\n",
    "| `OverallQual`        | Overall material and finish quality (ordinal 1–10)                 |\n",
    "| `OverallCond`        | Overall condition of the house (ordinal 1–10)                      |\n",
    "| `ExterQual`          | Exterior quality (Excellent/Good/Fair/Poor)                        |\n",
    "| `ExterCond`          | Exterior condition (Excellent/Good/Fair/Poor)                      |\n",
    "| `KitchenQual`        | Kitchen quality                                                    |\n",
    "| `GarageQual`         | Garage quality                                                     |\n",
    "| `GarageCond`         | Garage condition                                                   |\n",
    "| `BsmtQual`           | Basement height/quality                                            |\n",
    "| `BsmtCond`           | Basement general condition                                         |\n",
    "| `HeatingQC`          | Heating quality and condition                                      |\n",
    "| `FireplaceQu`        | Fireplace quality                                                  |\n",
    "| `QualityScore`       | Combined score: OverallQual × OverallCond                         |\n"
   ]
  },
  {
   "cell_type": "code",
   "execution_count": 57,
   "id": "bcf8f9b7",
   "metadata": {},
   "outputs": [
    {
     "data": {
      "text/html": [
       "<div>\n",
       "<style scoped>\n",
       "    .dataframe tbody tr th:only-of-type {\n",
       "        vertical-align: middle;\n",
       "    }\n",
       "\n",
       "    .dataframe tbody tr th {\n",
       "        vertical-align: top;\n",
       "    }\n",
       "\n",
       "    .dataframe thead th {\n",
       "        text-align: right;\n",
       "    }\n",
       "</style>\n",
       "<table border=\"1\" class=\"dataframe\">\n",
       "  <thead>\n",
       "    <tr style=\"text-align: right;\">\n",
       "      <th></th>\n",
       "      <th>QualityScore</th>\n",
       "    </tr>\n",
       "  </thead>\n",
       "  <tbody>\n",
       "    <tr>\n",
       "      <th>0</th>\n",
       "      <td>0.034079</td>\n",
       "    </tr>\n",
       "    <tr>\n",
       "      <th>1</th>\n",
       "      <td>-0.305069</td>\n",
       "    </tr>\n",
       "  </tbody>\n",
       "</table>\n",
       "</div>"
      ],
      "text/plain": [
       "   QualityScore\n",
       "0      0.034079\n",
       "1     -0.305069"
      ]
     },
     "execution_count": 57,
     "metadata": {},
     "output_type": "execute_result"
    }
   ],
   "source": [
    "def create_quality_features(df):\n",
    "    df['QualityScore'] = df['Overall Qual'] * df['Overall Cond']\n",
    "\n",
    "    return df\n",
    "\n",
    "df = create_quality_features(df)\n",
    "new_quality_cols = ['QualityScore']\n",
    "df[new_quality_cols].head(2)"
   ]
  },
  {
   "cell_type": "code",
   "execution_count": null,
   "id": "b135dccf",
   "metadata": {},
   "outputs": [],
   "source": []
  },
  {
   "cell_type": "markdown",
   "id": "edf7fc61",
   "metadata": {},
   "source": [
    "#### Binary & Flag Features\n",
    "\n",
    "##### Capture key boolean indicators and flags that describe useful property traits.\n",
    "\n",
    "| Feature Name        | Description                                                             |\n",
    "|---------------------|-------------------------------------------------------------------------|\n",
    "| `HasPool`           | 1 if the property has a pool (`Pool Area` > 0), else 0                  |\n",
    "| `HasGarage`         | 1 if the property has a garage (`Garage Area` > 0), else 0              |\n",
    "| `HasFireplace`      | 1 if there is at least one fireplace, else 0                            |\n",
    "| `HasPorch`          | 1 if `TotalPorchSF` > 0, else 0                                         |\n",
    "| `HasDeck`           | 1 if `Wood Deck SF` > 0, else 0                                         |\n",
    "| `HasBsmt`           | 1 if `Total Bsmt SF` > 0, else 0                                        |\n",
    "| `HasRemodel`        | 1 if the house was remodeled (`Year Built` ≠ `Year Remod/Add`), else 0 |"
   ]
  },
  {
   "cell_type": "code",
   "execution_count": 58,
   "id": "ce129f82",
   "metadata": {},
   "outputs": [
    {
     "data": {
      "text/html": [
       "<div>\n",
       "<style scoped>\n",
       "    .dataframe tbody tr th:only-of-type {\n",
       "        vertical-align: middle;\n",
       "    }\n",
       "\n",
       "    .dataframe tbody tr th {\n",
       "        vertical-align: top;\n",
       "    }\n",
       "\n",
       "    .dataframe thead th {\n",
       "        text-align: right;\n",
       "    }\n",
       "</style>\n",
       "<table border=\"1\" class=\"dataframe\">\n",
       "  <thead>\n",
       "    <tr style=\"text-align: right;\">\n",
       "      <th></th>\n",
       "      <th>HasPool</th>\n",
       "      <th>HasGarage</th>\n",
       "      <th>HasFireplace</th>\n",
       "      <th>HasPorch</th>\n",
       "      <th>HasDeck</th>\n",
       "      <th>HasBsmt</th>\n",
       "      <th>HasRemodel</th>\n",
       "    </tr>\n",
       "  </thead>\n",
       "  <tbody>\n",
       "    <tr>\n",
       "      <th>0</th>\n",
       "      <td>0</td>\n",
       "      <td>1</td>\n",
       "      <td>1</td>\n",
       "      <td>0</td>\n",
       "      <td>1</td>\n",
       "      <td>1</td>\n",
       "      <td>1</td>\n",
       "    </tr>\n",
       "    <tr>\n",
       "      <th>1</th>\n",
       "      <td>0</td>\n",
       "      <td>1</td>\n",
       "      <td>0</td>\n",
       "      <td>1</td>\n",
       "      <td>1</td>\n",
       "      <td>0</td>\n",
       "      <td>1</td>\n",
       "    </tr>\n",
       "  </tbody>\n",
       "</table>\n",
       "</div>"
      ],
      "text/plain": [
       "   HasPool  HasGarage  HasFireplace  HasPorch  HasDeck  HasBsmt  HasRemodel\n",
       "0        0          1             1         0        1        1           1\n",
       "1        0          1             0         1        1        0           1"
      ]
     },
     "execution_count": 58,
     "metadata": {},
     "output_type": "execute_result"
    }
   ],
   "source": [
    "# def create_binary_features(df):\n",
    "#     df['HasPool'] = df['Pool Area'].apply(lambda x: 1 if x > 0 else 0)\n",
    "#     df['HasGarage'] = df['Garage Area'].apply(lambda x: 1 if x > 0 else 0)\n",
    "#     df['HasFireplace'] = df['Fireplaces'].apply(lambda x: 1 if x > 0 else 0)\n",
    "#     df['HasPorch'] = df['TotalPorchSF'].apply(lambda x: 1 if x > 0 else 0)\n",
    "#     df['HasDeck'] = df['Wood Deck SF'].apply(lambda x: 1 if x > 0 else 0)\n",
    "#     df['HasBsmt'] = df['Total Bsmt SF'].apply(lambda x: 1 if x > 0 else 0)\n",
    "#     df['HasRemodel'] = (df['Year Built'] != df['Year Remod/Add']).astype(int)\n",
    "#     return df\n",
    "import numpy as np\n",
    "\n",
    "def create_binary_flags(df):\n",
    "    df['HasPool'] = np.where(df['Pool Area'] > 0, 1, 0)\n",
    "    df['HasGarage'] = np.where(df['Garage Area'] > 0, 1, 0)\n",
    "    df['HasFireplace'] = np.where(df['Fireplaces'] > 0, 1, 0)\n",
    "    df['HasPorch'] = np.where(df['TotalPorchSF'] > 0, 1, 0)\n",
    "    df['HasDeck'] = np.where(df['Wood Deck SF'] > 0, 1, 0)\n",
    "    df['HasBsmt'] = np.where(df['Total Bsmt SF'] > 0, 1, 0)\n",
    "    df['HasRemodel'] = np.where(df['Year Built'] != df['Year Remod/Add'], 1, 0)\n",
    "    \n",
    "    return df\n",
    "\n",
    "df = create_binary_flags(df)\n",
    "new_binary_cols = ['HasPool', 'HasGarage', 'HasFireplace', 'HasPorch', 'HasDeck', 'HasBsmt', 'HasRemodel']\n",
    "df[new_binary_cols].head(2)"
   ]
  },
  {
   "cell_type": "code",
   "execution_count": null,
   "id": "06ed368c",
   "metadata": {},
   "outputs": [],
   "source": []
  },
  {
   "cell_type": "code",
   "execution_count": 59,
   "id": "20e541f9",
   "metadata": {},
   "outputs": [
    {
     "name": "stdout",
     "output_type": "stream",
     "text": [
      "['Order', 'PID', 'MS SubClass', 'MS Zoning', 'Lot Frontage', 'Lot Area', 'Street', 'Alley', 'Lot Shape', 'Land Contour', 'Utilities', 'Lot Config', 'Land Slope', 'Neighborhood', 'Condition 1', 'Condition 2', 'Bldg Type', 'House Style', 'Overall Qual', 'Overall Cond', 'Year Built', 'Year Remod/Add', 'Roof Style', 'Roof Matl', 'Exterior 1st', 'Exterior 2nd', 'Mas Vnr Type', 'Mas Vnr Area', 'Exter Qual', 'Exter Cond', 'Foundation', 'Bsmt Qual', 'Bsmt Cond', 'Bsmt Exposure', 'BsmtFin Type 1', 'BsmtFin SF 1', 'BsmtFin Type 2', 'BsmtFin SF 2', 'Bsmt Unf SF', 'Total Bsmt SF', 'Heating', 'Heating QC', 'Central Air', 'Electrical', '1st Flr SF', '2nd Flr SF', 'Low Qual Fin SF', 'Gr Liv Area', 'Bsmt Full Bath', 'Bsmt Half Bath', 'Full Bath', 'Half Bath', 'Bedroom AbvGr', 'Kitchen AbvGr', 'Kitchen Qual', 'TotRms AbvGrd', 'Functional', 'Fireplaces', 'Fireplace Qu', 'Garage Type', 'Garage Yr Blt', 'Garage Finish', 'Garage Cars', 'Garage Area', 'Garage Qual', 'Garage Cond', 'Paved Drive', 'Wood Deck SF', 'Open Porch SF', 'Enclosed Porch', '3Ssn Porch', 'Screen Porch', 'Pool Area', 'Pool QC', 'Fence', 'Misc Feature', 'Misc Val', 'Mo Sold', 'Yr Sold', 'Sale Type', 'Sale Condition', 'SalePrice', 'TotalPorchSF', 'TotalHouseSF', 'TotalSqFeet', 'BsmtFinishedSF', 'TotalBath', 'HouseAge', 'RemodAge', 'GarageAge', 'QualityScore', 'HasPool', 'HasGarage', 'HasFireplace', 'HasPorch', 'HasDeck', 'HasBsmt', 'HasRemodel']\n",
      "98\n"
     ]
    }
   ],
   "source": [
    "print(df.columns.tolist())\n",
    "print(len(df.columns.tolist()))"
   ]
  },
  {
   "cell_type": "markdown",
   "id": "39067811",
   "metadata": {},
   "source": [
    "##### Let's drop columns that are unnecessary, being replaced by feature engineered features, captured via binary flags or aggregation"
   ]
  },
  {
   "cell_type": "code",
   "execution_count": 60,
   "id": "99ae472f",
   "metadata": {},
   "outputs": [],
   "source": [
    "def drop_redundant_columns(df):\n",
    "    drop_cols = [\n",
    "        'Order', 'PID', 'Mo Sold', 'Yr Sold',\n",
    "        '1st Flr SF', '2nd Flr SF',\n",
    "        'BsmtFin SF 1', 'BsmtFin SF 2', 'Bsmt Unf SF',\n",
    "        'Gr Liv Area', 'Total Bsmt SF',\n",
    "        'Full Bath', 'Half Bath', 'Bsmt Full Bath', 'Bsmt Half Bath',\n",
    "        'Fireplaces', 'Pool Area', 'Garage Area',\n",
    "        'Wood Deck SF', 'Open Porch SF', 'Enclosed Porch',\n",
    "        'Screen Porch', '3Ssn Porch'\n",
    "    ]\n",
    "    return df.drop(columns=[col for col in drop_cols if col in df.columns])"
   ]
  },
  {
   "cell_type": "code",
   "execution_count": 61,
   "id": "f3618438",
   "metadata": {},
   "outputs": [],
   "source": [
    "df = drop_redundant_columns(df)"
   ]
  },
  {
   "cell_type": "code",
   "execution_count": 62,
   "id": "029e1cfb",
   "metadata": {},
   "outputs": [
    {
     "name": "stdout",
     "output_type": "stream",
     "text": [
      "75\n"
     ]
    }
   ],
   "source": [
    "print(len(df.columns.tolist()))"
   ]
  },
  {
   "cell_type": "code",
   "execution_count": null,
   "id": "89696902",
   "metadata": {},
   "outputs": [],
   "source": []
  },
  {
   "cell_type": "markdown",
   "id": "75977c05",
   "metadata": {},
   "source": [
    "##### Ordinal Feature Encoding"
   ]
  },
  {
   "cell_type": "markdown",
   "id": "675c44ef",
   "metadata": {},
   "source": [
    "| Column           | Description             | Values (Low -> High)                                               |\n",
    "| ---------------- | ----------------------- | ----------------------------------------------------------------- |\n",
    "| `Exter Qual`     | Exterior quality        | `Po` < `Fa` < `TA` < `Gd` < `Ex`                                  |\n",
    "| `Exter Cond`     | Exterior condition      | `Po` < `Fa` < `TA` < `Gd` < `Ex`                                  |\n",
    "| `Bsmt Qual`      | Basement height         | `NA` < `Po` < `Fa` < `TA` < `Gd` < `Ex`                           |\n",
    "| `Bsmt Cond`      | Basement condition      | `NA` < `Po` < `Fa` < `TA` < `Gd` < `Ex`                           |\n",
    "| `Bsmt Exposure`  | Walkout or garden level | `No` < `Mn` < `Av` < `Gd`                                         |\n",
    "| `BsmtFin Type 1` | Basement finish type    | `Unf` < `LwQ` < `Rec` < `BLQ` < `ALQ` < `GLQ`                     |\n",
    "| `BsmtFin Type 2` | Second basement finish  | same as above                                                     |\n",
    "| `Heating QC`     | Heating quality         | `Po` < `Fa` < `TA` < `Gd` < `Ex`                                  |\n",
    "| `Kitchen Qual`   | Kitchen quality         | `Po` < `Fa` < `TA` < `Gd` < `Ex`                                  |\n",
    "| `Garage Finish`  | Garage interior finish  | `Unf` < `RFn` < `Fin`                                             |\n",
    "| `Garage Qual`    | Garage quality          | `NA` < `Po` < `Fa` < `TA` < `Gd` < `Ex`                           |\n",
    "| `Garage Cond`    | Garage condition        | same as above                                                     |\n",
    "| `Paved Drive`    | Driveway paving         | `N` < `P` < `Y`                                                   |\n",
    "| `Functional`     | Home functionality      | `Sal` < `Sev` < `Maj2` < `Maj1` < `Mod` < `Min2` < `Min1` < `Typ` |\n"
   ]
  },
  {
   "cell_type": "code",
   "execution_count": 63,
   "id": "6c83be9f",
   "metadata": {},
   "outputs": [],
   "source": [
    "def encode_ordinal_features(df):\n",
    "    quality_map = {'Po': 1, 'Fa': 2, 'TA': 3, 'Gd': 4, 'Ex': 5, np.nan: 0}\n",
    "    exposure_map = {'No': 1, 'Mn': 2, 'Av': 3, 'Gd': 4, np.nan: 0}\n",
    "    bsmtfin_map = {'Unf': 1, 'LwQ': 2, 'Rec': 3, 'BLQ': 4, 'ALQ': 5, 'GLQ': 6, np.nan: 0}\n",
    "    garage_finish_map = {'Unf': 1, 'RFn': 2, 'Fin': 3, np.nan: 0}\n",
    "    paved_drive_map = {'N': 1, 'P': 2, 'Y': 3}\n",
    "    functional_map = {'Sal': 1, 'Sev': 2, 'Maj2': 3, 'Maj1': 4, 'Mod': 5, 'Min2': 6, 'Min1': 7, 'Typ': 8}\n",
    "\n",
    "    maps = {\n",
    "        'Exter Qual': quality_map,\n",
    "        'Exter Cond': quality_map,\n",
    "        'Bsmt Qual': quality_map,\n",
    "        'Bsmt Cond': quality_map,\n",
    "        'Bsmt Exposure': exposure_map,\n",
    "        'BsmtFin Type 1': bsmtfin_map,\n",
    "        'BsmtFin Type 2': bsmtfin_map,\n",
    "        'Heating QC': quality_map,\n",
    "        'Kitchen Qual': quality_map,\n",
    "        'Garage Finish': garage_finish_map,\n",
    "        'Garage Qual': quality_map,\n",
    "        'Garage Cond': quality_map,\n",
    "        'Paved Drive': paved_drive_map,\n",
    "        'Functional': functional_map,\n",
    "    }\n",
    "\n",
    "    for col, mapping in maps.items():\n",
    "        if col in df.columns:\n",
    "            df[col] = df[col].map(mapping)\n",
    "\n",
    "    return df"
   ]
  },
  {
   "cell_type": "code",
   "execution_count": 64,
   "id": "f29553c9",
   "metadata": {},
   "outputs": [],
   "source": [
    "df = encode_ordinal_features(df)"
   ]
  },
  {
   "cell_type": "code",
   "execution_count": 65,
   "id": "6eedddc1",
   "metadata": {},
   "outputs": [
    {
     "name": "stdout",
     "output_type": "stream",
     "text": [
      "Exter Qual: [3 4 5 2]\n",
      "Exter Cond: [3 4 2 1 5]\n",
      "Bsmt Qual: [3 4 5 0 2 1]\n",
      "Bsmt Cond: [4 3 0 1 2 5]\n",
      "Bsmt Exposure: [4 1 2 3 0]\n",
      "BsmtFin Type 1: [4 3 5 6 1 2 0]\n",
      "BsmtFin Type 2: [1 2 4 3 0 6 5]\n",
      "Heating QC: [2 3 5 4 1]\n",
      "Kitchen Qual: [3 4 5 2 1]\n",
      "Garage Finish: [3 1 2 0]\n",
      "Garage Qual: [3 0 2 4 5 1]\n",
      "Garage Cond: [3 0 2 4 5 1]\n",
      "Paved Drive: [2 3 1]\n",
      "Functional: [8 5 7 6 4 3 2 1]\n"
     ]
    },
    {
     "data": {
      "text/html": [
       "<div>\n",
       "<style scoped>\n",
       "    .dataframe tbody tr th:only-of-type {\n",
       "        vertical-align: middle;\n",
       "    }\n",
       "\n",
       "    .dataframe tbody tr th {\n",
       "        vertical-align: top;\n",
       "    }\n",
       "\n",
       "    .dataframe thead th {\n",
       "        text-align: right;\n",
       "    }\n",
       "</style>\n",
       "<table border=\"1\" class=\"dataframe\">\n",
       "  <thead>\n",
       "    <tr style=\"text-align: right;\">\n",
       "      <th></th>\n",
       "      <th>Exter Qual</th>\n",
       "      <th>Exter Cond</th>\n",
       "      <th>Bsmt Qual</th>\n",
       "      <th>Bsmt Cond</th>\n",
       "      <th>Bsmt Exposure</th>\n",
       "      <th>BsmtFin Type 1</th>\n",
       "      <th>BsmtFin Type 2</th>\n",
       "      <th>Heating QC</th>\n",
       "      <th>Kitchen Qual</th>\n",
       "      <th>Garage Finish</th>\n",
       "      <th>Garage Qual</th>\n",
       "      <th>Garage Cond</th>\n",
       "      <th>Paved Drive</th>\n",
       "      <th>Functional</th>\n",
       "    </tr>\n",
       "  </thead>\n",
       "  <tbody>\n",
       "    <tr>\n",
       "      <th>0</th>\n",
       "      <td>3</td>\n",
       "      <td>3</td>\n",
       "      <td>3</td>\n",
       "      <td>4</td>\n",
       "      <td>4</td>\n",
       "      <td>4</td>\n",
       "      <td>1</td>\n",
       "      <td>2</td>\n",
       "      <td>3</td>\n",
       "      <td>3</td>\n",
       "      <td>3</td>\n",
       "      <td>3</td>\n",
       "      <td>2</td>\n",
       "      <td>8</td>\n",
       "    </tr>\n",
       "    <tr>\n",
       "      <th>1</th>\n",
       "      <td>3</td>\n",
       "      <td>3</td>\n",
       "      <td>3</td>\n",
       "      <td>3</td>\n",
       "      <td>1</td>\n",
       "      <td>3</td>\n",
       "      <td>2</td>\n",
       "      <td>3</td>\n",
       "      <td>3</td>\n",
       "      <td>1</td>\n",
       "      <td>3</td>\n",
       "      <td>3</td>\n",
       "      <td>3</td>\n",
       "      <td>8</td>\n",
       "    </tr>\n",
       "  </tbody>\n",
       "</table>\n",
       "</div>"
      ],
      "text/plain": [
       "   Exter Qual  Exter Cond  Bsmt Qual  Bsmt Cond  Bsmt Exposure  \\\n",
       "0           3           3          3          4              4   \n",
       "1           3           3          3          3              1   \n",
       "\n",
       "   BsmtFin Type 1  BsmtFin Type 2  Heating QC  Kitchen Qual  Garage Finish  \\\n",
       "0               4               1           2             3              3   \n",
       "1               3               2           3             3              1   \n",
       "\n",
       "   Garage Qual  Garage Cond  Paved Drive  Functional  \n",
       "0            3            3            2           8  \n",
       "1            3            3            3           8  "
      ]
     },
     "execution_count": 65,
     "metadata": {},
     "output_type": "execute_result"
    }
   ],
   "source": [
    "ordinal_cols = [\n",
    "    'Exter Qual', 'Exter Cond', 'Bsmt Qual', 'Bsmt Cond', 'Bsmt Exposure',\n",
    "    'BsmtFin Type 1', 'BsmtFin Type 2', 'Heating QC', 'Kitchen Qual',\n",
    "    'Garage Finish', 'Garage Qual', 'Garage Cond', 'Paved Drive', 'Functional'\n",
    "]\n",
    "\n",
    "for col in ordinal_cols:\n",
    "    if col in df.columns:\n",
    "        print(f\"{col}: {df[col].unique()}\")\n",
    "df[ordinal_cols].head(2)"
   ]
  },
  {
   "cell_type": "code",
   "execution_count": 66,
   "id": "2b90f13c",
   "metadata": {},
   "outputs": [
    {
     "name": "stdout",
     "output_type": "stream",
     "text": [
      "✅ Processed data with engineered features saved successfully.\n",
      "<class 'pandas.core.frame.DataFrame'>\n",
      "RangeIndex: 2930 entries, 0 to 2929\n",
      "Data columns (total 75 columns):\n",
      " #   Column           Non-Null Count  Dtype  \n",
      "---  ------           --------------  -----  \n",
      " 0   MS SubClass      2930 non-null   float64\n",
      " 1   MS Zoning        2930 non-null   object \n",
      " 2   Lot Frontage     2440 non-null   float64\n",
      " 3   Lot Area         2930 non-null   float64\n",
      " 4   Street           2930 non-null   object \n",
      " 5   Alley            198 non-null    object \n",
      " 6   Lot Shape        2930 non-null   object \n",
      " 7   Land Contour     2930 non-null   object \n",
      " 8   Utilities        2930 non-null   object \n",
      " 9   Lot Config       2930 non-null   object \n",
      " 10  Land Slope       2930 non-null   object \n",
      " 11  Neighborhood     2930 non-null   object \n",
      " 12  Condition 1      2930 non-null   object \n",
      " 13  Condition 2      2930 non-null   object \n",
      " 14  Bldg Type        2930 non-null   object \n",
      " 15  House Style      2930 non-null   object \n",
      " 16  Overall Qual     2930 non-null   float64\n",
      " 17  Overall Cond     2930 non-null   float64\n",
      " 18  Year Built       2930 non-null   float64\n",
      " 19  Year Remod/Add   2930 non-null   float64\n",
      " 20  Roof Style       2930 non-null   object \n",
      " 21  Roof Matl        2930 non-null   object \n",
      " 22  Exterior 1st     2930 non-null   object \n",
      " 23  Exterior 2nd     2930 non-null   object \n",
      " 24  Mas Vnr Type     1155 non-null   object \n",
      " 25  Mas Vnr Area     2907 non-null   float64\n",
      " 26  Exter Qual       2930 non-null   int64  \n",
      " 27  Exter Cond       2930 non-null   int64  \n",
      " 28  Foundation       2930 non-null   object \n",
      " 29  Bsmt Qual        2930 non-null   int64  \n",
      " 30  Bsmt Cond        2930 non-null   int64  \n",
      " 31  Bsmt Exposure    2930 non-null   int64  \n",
      " 32  BsmtFin Type 1   2930 non-null   int64  \n",
      " 33  BsmtFin Type 2   2930 non-null   int64  \n",
      " 34  Heating          2930 non-null   object \n",
      " 35  Heating QC       2930 non-null   int64  \n",
      " 36  Central Air      2930 non-null   object \n",
      " 37  Electrical       2929 non-null   object \n",
      " 38  Low Qual Fin SF  2930 non-null   float64\n",
      " 39  Bedroom AbvGr    2930 non-null   float64\n",
      " 40  Kitchen AbvGr    2930 non-null   float64\n",
      " 41  Kitchen Qual     2930 non-null   int64  \n",
      " 42  TotRms AbvGrd    2930 non-null   float64\n",
      " 43  Functional       2930 non-null   int64  \n",
      " 44  Fireplace Qu     1508 non-null   object \n",
      " 45  Garage Type      2773 non-null   object \n",
      " 46  Garage Yr Blt    2771 non-null   float64\n",
      " 47  Garage Finish    2930 non-null   int64  \n",
      " 48  Garage Cars      2929 non-null   float64\n",
      " 49  Garage Qual      2930 non-null   int64  \n",
      " 50  Garage Cond      2930 non-null   int64  \n",
      " 51  Paved Drive      2930 non-null   int64  \n",
      " 52  Pool QC          13 non-null     object \n",
      " 53  Fence            572 non-null    object \n",
      " 54  Misc Feature     106 non-null    object \n",
      " 55  Misc Val         2930 non-null   float64\n",
      " 56  Sale Type        2930 non-null   object \n",
      " 57  Sale Condition   2930 non-null   object \n",
      " 58  SalePrice        2930 non-null   int64  \n",
      " 59  TotalPorchSF     2930 non-null   float64\n",
      " 60  TotalHouseSF     2929 non-null   float64\n",
      " 61  TotalSqFeet      2929 non-null   float64\n",
      " 62  BsmtFinishedSF   2929 non-null   float64\n",
      " 63  TotalBath        2928 non-null   float64\n",
      " 64  HouseAge         2930 non-null   float64\n",
      " 65  RemodAge         2930 non-null   float64\n",
      " 66  GarageAge        2771 non-null   float64\n",
      " 67  QualityScore     2930 non-null   float64\n",
      " 68  HasPool          2930 non-null   int64  \n",
      " 69  HasGarage        2930 non-null   int64  \n",
      " 70  HasFireplace     2930 non-null   int64  \n",
      " 71  HasPorch         2930 non-null   int64  \n",
      " 72  HasDeck          2930 non-null   int64  \n",
      " 73  HasBsmt          2930 non-null   int64  \n",
      " 74  HasRemodel       2930 non-null   int64  \n",
      "dtypes: float64(24), int64(22), object(29)\n",
      "memory usage: 1.7+ MB\n",
      "None\n"
     ]
    }
   ],
   "source": [
    "final_df = df.copy()\n",
    "\n",
    "final_df.to_csv(r\"C:\\Harish\\DATA SCIENCE COURSE\\Course\\Major Projects\\House Price Prediction\\data\\processed\\processed_data_with_features.csv\", index=False)\n",
    "\n",
    "print(\"✅ Processed data with engineered features saved successfully.\")\n",
    "\n",
    "print(final_df.info())\n"
   ]
  },
  {
   "cell_type": "code",
   "execution_count": 67,
   "id": "660e87e5",
   "metadata": {},
   "outputs": [
    {
     "data": {
      "text/html": [
       "<div>\n",
       "<style scoped>\n",
       "    .dataframe tbody tr th:only-of-type {\n",
       "        vertical-align: middle;\n",
       "    }\n",
       "\n",
       "    .dataframe tbody tr th {\n",
       "        vertical-align: top;\n",
       "    }\n",
       "\n",
       "    .dataframe thead th {\n",
       "        text-align: right;\n",
       "    }\n",
       "</style>\n",
       "<table border=\"1\" class=\"dataframe\">\n",
       "  <thead>\n",
       "    <tr style=\"text-align: right;\">\n",
       "      <th></th>\n",
       "      <th>MS SubClass</th>\n",
       "      <th>MS Zoning</th>\n",
       "      <th>Lot Frontage</th>\n",
       "      <th>Lot Area</th>\n",
       "      <th>Street</th>\n",
       "      <th>Alley</th>\n",
       "      <th>Lot Shape</th>\n",
       "      <th>Land Contour</th>\n",
       "      <th>Utilities</th>\n",
       "      <th>Lot Config</th>\n",
       "      <th>...</th>\n",
       "      <th>RemodAge</th>\n",
       "      <th>GarageAge</th>\n",
       "      <th>QualityScore</th>\n",
       "      <th>HasPool</th>\n",
       "      <th>HasGarage</th>\n",
       "      <th>HasFireplace</th>\n",
       "      <th>HasPorch</th>\n",
       "      <th>HasDeck</th>\n",
       "      <th>HasBsmt</th>\n",
       "      <th>HasRemodel</th>\n",
       "    </tr>\n",
       "  </thead>\n",
       "  <tbody>\n",
       "    <tr>\n",
       "      <th>0</th>\n",
       "      <td>-0.877005</td>\n",
       "      <td>RL</td>\n",
       "      <td>3.072506</td>\n",
       "      <td>2.744381</td>\n",
       "      <td>Pave</td>\n",
       "      <td>NaN</td>\n",
       "      <td>IR1</td>\n",
       "      <td>Lvl</td>\n",
       "      <td>AllPub</td>\n",
       "      <td>Corner</td>\n",
       "      <td>...</td>\n",
       "      <td>2.841987</td>\n",
       "      <td>2.388912</td>\n",
       "      <td>0.034079</td>\n",
       "      <td>0</td>\n",
       "      <td>1</td>\n",
       "      <td>1</td>\n",
       "      <td>0</td>\n",
       "      <td>1</td>\n",
       "      <td>1</td>\n",
       "      <td>1</td>\n",
       "    </tr>\n",
       "    <tr>\n",
       "      <th>1</th>\n",
       "      <td>-0.877005</td>\n",
       "      <td>RH</td>\n",
       "      <td>0.461265</td>\n",
       "      <td>0.187097</td>\n",
       "      <td>Pave</td>\n",
       "      <td>NaN</td>\n",
       "      <td>Reg</td>\n",
       "      <td>Lvl</td>\n",
       "      <td>AllPub</td>\n",
       "      <td>Inside</td>\n",
       "      <td>...</td>\n",
       "      <td>2.794041</td>\n",
       "      <td>2.349733</td>\n",
       "      <td>-0.305069</td>\n",
       "      <td>0</td>\n",
       "      <td>1</td>\n",
       "      <td>0</td>\n",
       "      <td>1</td>\n",
       "      <td>1</td>\n",
       "      <td>0</td>\n",
       "      <td>1</td>\n",
       "    </tr>\n",
       "  </tbody>\n",
       "</table>\n",
       "<p>2 rows × 75 columns</p>\n",
       "</div>"
      ],
      "text/plain": [
       "   MS SubClass MS Zoning  Lot Frontage  Lot Area Street Alley Lot Shape  \\\n",
       "0    -0.877005        RL      3.072506  2.744381   Pave   NaN       IR1   \n",
       "1    -0.877005        RH      0.461265  0.187097   Pave   NaN       Reg   \n",
       "\n",
       "  Land Contour Utilities Lot Config  ...  RemodAge GarageAge QualityScore  \\\n",
       "0          Lvl    AllPub     Corner  ...  2.841987  2.388912     0.034079   \n",
       "1          Lvl    AllPub     Inside  ...  2.794041  2.349733    -0.305069   \n",
       "\n",
       "  HasPool HasGarage HasFireplace  HasPorch  HasDeck  HasBsmt  HasRemodel  \n",
       "0       0         1            1         0        1        1           1  \n",
       "1       0         1            0         1        1        0           1  \n",
       "\n",
       "[2 rows x 75 columns]"
      ]
     },
     "execution_count": 67,
     "metadata": {},
     "output_type": "execute_result"
    }
   ],
   "source": [
    "final_df.head(2)"
   ]
  },
  {
   "cell_type": "code",
   "execution_count": null,
   "id": "d3635f16",
   "metadata": {},
   "outputs": [],
   "source": []
  }
 ],
 "metadata": {
  "kernelspec": {
   "display_name": ".venv",
   "language": "python",
   "name": "python3"
  },
  "language_info": {
   "codemirror_mode": {
    "name": "ipython",
    "version": 3
   },
   "file_extension": ".py",
   "mimetype": "text/x-python",
   "name": "python",
   "nbconvert_exporter": "python",
   "pygments_lexer": "ipython3",
   "version": "3.12.2"
  }
 },
 "nbformat": 4,
 "nbformat_minor": 5
}
